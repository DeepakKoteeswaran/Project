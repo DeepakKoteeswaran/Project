{
 "cells": [
  {
   "cell_type": "code",
   "execution_count": null,
   "id": "c7311b3e",
   "metadata": {},
   "outputs": [],
   "source": [
    "# Pulls data from cryptomarketcap website\n",
    "import pandas as pd\n",
    "from requests import Request, Session\n",
    "from requests.exceptions import ConnectionError, Timeout, TooManyRedirects\n",
    "import json\n",
    "def api_runner():\n",
    "    global df\n",
    "    url = 'https://pro-api.coinmarketcap.com/v1/cryptocurrency/listings/latest' \n",
    "    parameters = {\n",
    "      'start':'1',\n",
    "      'limit':'100',\n",
    "      'convert':'USD'\n",
    "    }\n",
    "    headers = {\n",
    "      'Accepts': 'application/json',\n",
    "      'X-CMC_PRO_API_KEY': 'dc444f2d-cf31-492b-86af-fd14440d11de',\n",
    "    }\n",
    "\n",
    "    session = Session()\n",
    "    session.headers.update(headers)\n",
    "\n",
    "    try:\n",
    "      response = session.get(url, params=parameters)\n",
    "      data = json.loads(response.text)\n",
    "    except (ConnectionError, Timeout, TooManyRedirects) as e:\n",
    "      print(e)\n",
    "\n",
    "#create a csv and append data to it\n",
    "    df = pd.json_normalize(data['data'])\n",
    "    df['timestamp'] = pd.to_datetime('now')\n",
    "    df\n",
    "\n",
    "    if not os.path.isfile(r'C:\\Users\\New\\Desktop\\API Pull\\API.csv'):\n",
    "        df.to_csv(r'C:\\Users\\New\\Desktop\\API Pull\\API.csv', header='column_names')\n",
    "    else:\n",
    "        df.to_csv(r'C:\\Users\\New\\Desktop\\API Pull\\API.csv', mode='a', header=False)"
   ]
  },
  {
   "cell_type": "code",
   "execution_count": null,
   "id": "9fef5dfd",
   "metadata": {},
   "outputs": [],
   "source": [
    "# Automates data pull every day\n",
    "import os \n",
    "from time import time\n",
    "from time import sleep\n",
    "\n",
    "for i in range(333):\n",
    "    api_runner()\n",
    "    print('API Runner completed')\n",
    "    sleep(86400) #sleep for 1 day\n",
    "    df\n",
    "exit()"
   ]
  },
  {
   "cell_type": "code",
   "execution_count": null,
   "id": "09c6721a",
   "metadata": {},
   "outputs": [],
   "source": []
  },
  {
   "cell_type": "code",
   "execution_count": null,
   "id": "8dd50d25",
   "metadata": {},
   "outputs": [],
   "source": []
  }
 ],
 "metadata": {
  "kernelspec": {
   "display_name": "Python 3 (ipykernel)",
   "language": "python",
   "name": "python3"
  },
  "language_info": {
   "codemirror_mode": {
    "name": "ipython",
    "version": 3
   },
   "file_extension": ".py",
   "mimetype": "text/x-python",
   "name": "python",
   "nbconvert_exporter": "python",
   "pygments_lexer": "ipython3",
   "version": "3.10.9"
  }
 },
 "nbformat": 4,
 "nbformat_minor": 5
}
