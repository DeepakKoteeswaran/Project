{
 "cells": [
  {
   "cell_type": "code",
   "execution_count": null,
   "id": "a1a97e64",
   "metadata": {},
   "outputs": [],
   "source": [
    "import azure.core\n",
    "from azureml.core import Workspace,Environment,Experiment,ScriptRunConfig\n",
    "from azureml.core.compute import AksCompute, ComputeTarget\n",
    "from azureml.core.compute_target import ComputeTargetException"
   ]
  },
  {
   "cell_type": "code",
   "execution_count": null,
   "id": "87163fc3",
   "metadata": {},
   "outputs": [],
   "source": [
    "resource_name = \"ml_rs\"\n",
    "workspace_name = \"ml_ws\"\n",
    "subscriptionID = \"*****\" \n",
    "aml_compute_target = \"ml-cluster\" \n",
    "experiment_name= 'ml_expirement'"
   ]
  },
  {
   "cell_type": "code",
   "execution_count": null,
   "id": "682c18f9",
   "metadata": {},
   "outputs": [],
   "source": [
    "#creating Workspace\n",
    "try:\n",
    "    ws=Workspace.from_config()\n",
    "    print('Workspace is already exist')\n",
    "except:\n",
    "    ws=Workspace.create(workspace_name, \n",
    "                    resource_group=resource_name,\n",
    "                    create_resource_group=True,\n",
    "                    subscription_id=subscriptionID,\n",
    "                    location=\"Canada Central\")\n",
    "    ws.write_config('.azureml')\n"
   ]
  },
  {
   "cell_type": "code",
   "execution_count": null,
   "id": "866ac4ee",
   "metadata": {},
   "outputs": [],
   "source": [
    "Workspace.from_config()"
   ]
  },
  {
   "cell_type": "code",
   "execution_count": null,
   "id": "fa2414f0",
   "metadata": {},
   "outputs": [],
   "source": [
    "# Creating Compute Target\n",
    "try:\n",
    "    aml_compute = AmlCompute(ws, aml_compute_target)\n",
    "    print(\"This Compute Target already exist.\")\n",
    "except ComputeTargetException:\n",
    "    print(\"creating new compute target :\",aml_compute_target)\n",
    "    \n",
    "    provisioning_config = AmlCompute.provisioning_configuration(vm_size = \"STANDARD_D2_V2\",\n",
    "                                                                min_nodes = 1, \n",
    "                                                                max_nodes = 4,\n",
    "                                               idle_seconds_before_scaledown=3000)    \n",
    "    aml_compute = ComputeTarget.create(ws, aml_compute_target, provisioning_config)\n",
    "    aml_compute.wait_for_completion(show_output=True, min_node_count=None, timeout_in_minutes=20)\n",
    "    \n",
    "print(\"Azure Machine Learning Compute attached now\")\n"
   ]
  },
  {
   "cell_type": "code",
   "execution_count": null,
   "id": "c92e53e3",
   "metadata": {},
   "outputs": [],
   "source": [
    "# Creating Experiment\n",
    "exp = Experiment(ws,experiment_name)"
   ]
  },
  {
   "cell_type": "code",
   "execution_count": null,
   "id": "6080878c",
   "metadata": {},
   "outputs": [],
   "source": [
    "# Create environment to execute your code\n",
    "from azureml.core import Environment\n",
    "from azureml.core.environment import CondaDependencies\n",
    "\n",
    "env = Environment.from_conda_specification(name=\"azure_ml\",file_path=\"./envfile.yml\")\n",
    "\n",
    "config=ScriptRunConfig(source_directory=\"./\",script=\"mytrain_log.py\",compute_target=aml_compute_target,environment=env)\n",
    "execution=exp.submit(config)\n",
    "execution.wait_for_completion(show_output=True)"
   ]
  },
  {
   "cell_type": "code",
   "execution_count": null,
   "id": "f7728f05",
   "metadata": {},
   "outputs": [],
   "source": [
    "# Changing parameters\n",
    "config=ScriptRunConfig(source_directory=\"./\",script=\"mytrain_log.py\",compute_target=aml_compute_target,environment=env,\n",
    "                            arguments=['--min_samples_leaf',5,\n",
    "                                       '--min_samples_split',7])\n",
    "execution=exp.submit(config)"
   ]
  },
  {
   "cell_type": "code",
   "execution_count": null,
   "id": "426c586c",
   "metadata": {},
   "outputs": [],
   "source": [
    "#Registering model in workspace\n",
    "from azureml.core import Model\n",
    "model = Model.register(ws,model_path=\"./diabeticmodel.pkl\",model_name=\"first_ml_model\")"
   ]
  },
  {
   "cell_type": "code",
   "execution_count": null,
   "id": "867527fa",
   "metadata": {},
   "outputs": [],
   "source": [
    "model = Model(ws,\"first_ml_model\")"
   ]
  },
  {
   "cell_type": "code",
   "execution_count": null,
   "id": "e47fdc3f",
   "metadata": {},
   "outputs": [],
   "source": [
    "# Register the environment\n",
    "print(\"Registering the environment...\")\n",
    "env.register(ws)"
   ]
  },
  {
   "cell_type": "code",
   "execution_count": null,
   "id": "330304ac",
   "metadata": {},
   "outputs": [],
   "source": [
    "from azureml.core.model import InferenceConfig\n",
    "inference_config = InferenceConfig(entry_script='score.py',source_directory='.',environment=env)"
   ]
  },
  {
   "cell_type": "code",
   "execution_count": null,
   "id": "ac203572",
   "metadata": {},
   "outputs": [],
   "source": [
    "from azureml.core.webservice import AksWebservice\n",
    "print('Creating the Deployment configuration for webservice...')\n",
    "aciconfig = AksWebservice.deploy_configuration(cpu_cores = 1,\n",
    "                                                   memory_gb = 1)"
   ]
  },
  {
   "cell_type": "code",
   "execution_count": null,
   "id": "f4dc3f43",
   "metadata": {},
   "outputs": [],
   "source": [
    "# creating AKS cluster\n",
    "cluster_name = 'aks-cluster-001'\n",
    "\n",
    "if cluster_name not in ws.compute_targets:\n",
    "    print(cluster_name, \"does not exist. Creating a new one...\")\n",
    "    print('Creating provisioniong config for Aks cluster....')\n",
    "\n",
    "    aks_config = AksCompute.provisioning_configuration(location='Canada Central',\n",
    "                                                       vm_size='STANDARD_D11_V2',\n",
    "                                                       agent_count=1,\n",
    "                                                       cluster_purpose='DevTest')\n",
    "\n",
    "    print(\"Creating the AKS Cluster...\")\n",
    "    production_cluster = ComputeTarget.create(ws, cluster_name, aks_config)\n",
    "    production_cluster.wait_for_completion(show_output=True)\n",
    "else:\n",
    "    print(cluster_name, \"exists. Using it...\")\n",
    "    production_cluster = ws.compute_targets[cluster_name]"
   ]
  },
  {
   "cell_type": "code",
   "execution_count": null,
   "id": "ddd25fd7",
   "metadata": {},
   "outputs": [],
   "source": [
    "# Deploying the model\n",
    "service = Model.deploy(workspace= ws,\n",
    "                       name=\"mlmodel\", \n",
    "                           models=[model],\n",
    "                           inference_config=inference_config,\n",
    "                           deployment_config=aciconfig,\n",
    "                           deployment_target=production_cluster,\n",
    "                           overwrite=True)\n",
    "service.wait_for_deployment(show_output=True)\n",
    "url = service.scoring_uri\n",
    "print(url)"
   ]
  },
  {
   "cell_type": "code",
   "execution_count": null,
   "id": "f9d5b633",
   "metadata": {},
   "outputs": [],
   "source": [
    "# Preparing test data\n",
    "import pandas as pd\n",
    "import json\n",
    "data = pd.read_csv('test.csv')\n",
    "xt = data.values.tolist()\n",
    "test = json.dumps({\"data\":xt})"
   ]
  },
  {
   "cell_type": "code",
   "execution_count": null,
   "id": "0328c8f3",
   "metadata": {},
   "outputs": [],
   "source": [
    "test"
   ]
  },
  {
   "cell_type": "code",
   "execution_count": null,
   "id": "748031fb",
   "metadata": {},
   "outputs": [],
   "source": [
    "# Testing 1\n",
    "\n",
    "from azureml.core import Webservice\n",
    "service = Webservice(workspace=ws, name=\"mldemomodel\")\n",
    "print(service.scoring_uri)\n",
    "print(service.swagger_uri)\n",
    "prediction = service.run(input_data=test)\n",
    "prediction"
   ]
  },
  {
   "cell_type": "code",
   "execution_count": null,
   "id": "f8bcf67d",
   "metadata": {},
   "outputs": [],
   "source": [
    "# Testing 2\n",
    "import requests\n",
    "headers = {'content-Type':'application/json'}\n",
    "\n",
    "response = requests.post(service.scoring_uri, test, headers=headers)\n",
    "response.text"
   ]
  }
 ],
 "metadata": {
  "kernelspec": {
   "display_name": "Python 3 (ipykernel)",
   "language": "python",
   "name": "python3"
  },
  "language_info": {
   "codemirror_mode": {
    "name": "ipython",
    "version": 3
   },
   "file_extension": ".py",
   "mimetype": "text/x-python",
   "name": "python",
   "nbconvert_exporter": "python",
   "pygments_lexer": "ipython3",
   "version": "3.10.9"
  }
 },
 "nbformat": 4,
 "nbformat_minor": 5
}
